{
 "cells": [
  {
   "cell_type": "code",
   "execution_count": 1,
   "id": "b4edbc78",
   "metadata": {
    "execution": {
     "iopub.execute_input": "2021-07-22T17:37:05.306863Z",
     "iopub.status.busy": "2021-07-22T17:37:05.306129Z",
     "iopub.status.idle": "2021-07-22T17:37:06.399044Z",
     "shell.execute_reply": "2021-07-22T17:37:06.398225Z",
     "shell.execute_reply.started": "2021-07-21T20:08:45.287008Z"
    },
    "papermill": {
     "duration": 1.154278,
     "end_time": "2021-07-22T17:37:06.399299",
     "exception": false,
     "start_time": "2021-07-22T17:37:05.245021",
     "status": "completed"
    },
    "tags": []
   },
   "outputs": [],
   "source": [
    "import pandas as pd\n",
    "import numpy as np \n",
    "import matplotlib.pyplot as plt\n",
    "%matplotlib inline\n",
    "import seaborn as sns"
   ]
  },
  {
   "cell_type": "code",
   "execution_count": 2,
   "id": "90270702",
   "metadata": {
    "execution": {
     "iopub.execute_input": "2021-07-22T17:37:06.495472Z",
     "iopub.status.busy": "2021-07-22T17:37:06.494723Z",
     "iopub.status.idle": "2021-07-22T17:37:06.510208Z",
     "shell.execute_reply": "2021-07-22T17:37:06.509571Z",
     "shell.execute_reply.started": "2021-07-21T20:08:45.314487Z"
    },
    "papermill": {
     "duration": 0.064959,
     "end_time": "2021-07-22T17:37:06.510372",
     "exception": false,
     "start_time": "2021-07-22T17:37:06.445413",
     "status": "completed"
    },
    "tags": []
   },
   "outputs": [],
   "source": [
    "data_path = 'Fish.csv'\n",
    "data = pd.read_csv(data_path)"
   ]
  },
  {
   "cell_type": "markdown",
   "id": "6bb55547",
   "metadata": {
    "papermill": {
     "duration": 0.044415,
     "end_time": "2021-07-22T17:37:06.599895",
     "exception": false,
     "start_time": "2021-07-22T17:37:06.555480",
     "status": "completed"
    },
    "tags": []
   },
   "source": [
    "Exploring data"
   ]
  },
  {
   "cell_type": "code",
   "execution_count": 3,
   "id": "0607c3e5",
   "metadata": {
    "execution": {
     "iopub.execute_input": "2021-07-22T17:37:06.696771Z",
     "iopub.status.busy": "2021-07-22T17:37:06.695807Z",
     "iopub.status.idle": "2021-07-22T17:37:06.717312Z",
     "shell.execute_reply": "2021-07-22T17:37:06.716403Z",
     "shell.execute_reply.started": "2021-07-21T20:08:45.332594Z"
    },
    "papermill": {
     "duration": 0.072204,
     "end_time": "2021-07-22T17:37:06.717509",
     "exception": false,
     "start_time": "2021-07-22T17:37:06.645305",
     "status": "completed"
    },
    "tags": []
   },
   "outputs": [
    {
     "name": "stdout",
     "output_type": "stream",
     "text": [
      "  Species  Weight  Length1  Length2  Length3   Height   Width\n",
      "0   Bream   242.0     23.2     25.4     30.0  11.5200  4.0200\n",
      "1   Bream   290.0     24.0     26.3     31.2  12.4800  4.3056\n",
      "2   Bream   340.0     23.9     26.5     31.1  12.3778  4.6961\n",
      "3   Bream   363.0     26.3     29.0     33.5  12.7300  4.4555\n",
      "4   Bream   430.0     26.5     29.0     34.0  12.4440  5.1340\n"
     ]
    }
   ],
   "source": [
    "print(data.head())"
   ]
  },
  {
   "cell_type": "code",
   "execution_count": 4,
   "id": "a828b43f",
   "metadata": {
    "execution": {
     "iopub.execute_input": "2021-07-22T17:37:07.017096Z",
     "iopub.status.busy": "2021-07-22T17:37:07.016372Z",
     "iopub.status.idle": "2021-07-22T17:37:07.020587Z",
     "shell.execute_reply": "2021-07-22T17:37:07.019965Z",
     "shell.execute_reply.started": "2021-07-21T20:08:45.399012Z"
    },
    "papermill": {
     "duration": 0.05775,
     "end_time": "2021-07-22T17:37:07.020728",
     "exception": false,
     "start_time": "2021-07-22T17:37:06.962978",
     "status": "completed"
    },
    "tags": []
   },
   "outputs": [
    {
     "name": "stdout",
     "output_type": "stream",
     "text": [
      "Species    0\n",
      "Weight     0\n",
      "Length1    0\n",
      "Length2    0\n",
      "Length3    0\n",
      "Height     0\n",
      "Width      0\n",
      "dtype: int64\n"
     ]
    }
   ],
   "source": [
    "print(data.isnull().sum())"
   ]
  },
  {
   "cell_type": "markdown",
   "id": "0397305b",
   "metadata": {
    "papermill": {
     "duration": 0.047421,
     "end_time": "2021-07-22T17:37:07.432274",
     "exception": false,
     "start_time": "2021-07-22T17:37:07.384853",
     "status": "completed"
    },
    "tags": []
   },
   "source": [
    "Data Preprocessing"
   ]
  },
  {
   "cell_type": "code",
   "execution_count": 5,
   "id": "dfd943cc",
   "metadata": {
    "execution": {
     "iopub.execute_input": "2021-07-22T17:37:07.624784Z",
     "iopub.status.busy": "2021-07-22T17:37:07.624147Z",
     "iopub.status.idle": "2021-07-22T17:37:07.627419Z",
     "shell.execute_reply": "2021-07-22T17:37:07.626930Z",
     "shell.execute_reply.started": "2021-07-21T20:08:45.460978Z"
    },
    "papermill": {
     "duration": 0.055191,
     "end_time": "2021-07-22T17:37:07.627561",
     "exception": false,
     "start_time": "2021-07-22T17:37:07.572370",
     "status": "completed"
    },
    "tags": []
   },
   "outputs": [
    {
     "data": {
      "text/html": [
       "<div>\n",
       "<style scoped>\n",
       "    .dataframe tbody tr th:only-of-type {\n",
       "        vertical-align: middle;\n",
       "    }\n",
       "\n",
       "    .dataframe tbody tr th {\n",
       "        vertical-align: top;\n",
       "    }\n",
       "\n",
       "    .dataframe thead th {\n",
       "        text-align: right;\n",
       "    }\n",
       "</style>\n",
       "<table border=\"1\" class=\"dataframe\">\n",
       "  <thead>\n",
       "    <tr style=\"text-align: right;\">\n",
       "      <th></th>\n",
       "      <th>0</th>\n",
       "      <th>1</th>\n",
       "      <th>2</th>\n",
       "      <th>3</th>\n",
       "      <th>4</th>\n",
       "      <th>5</th>\n",
       "    </tr>\n",
       "  </thead>\n",
       "  <tbody>\n",
       "    <tr>\n",
       "      <th>0</th>\n",
       "      <td>0.981470</td>\n",
       "      <td>0.094091</td>\n",
       "      <td>0.103014</td>\n",
       "      <td>0.121670</td>\n",
       "      <td>0.046721</td>\n",
       "      <td>0.016304</td>\n",
       "    </tr>\n",
       "    <tr>\n",
       "      <th>1</th>\n",
       "      <td>0.985942</td>\n",
       "      <td>0.081595</td>\n",
       "      <td>0.089415</td>\n",
       "      <td>0.106074</td>\n",
       "      <td>0.042429</td>\n",
       "      <td>0.014638</td>\n",
       "    </tr>\n",
       "    <tr>\n",
       "      <th>2</th>\n",
       "      <td>0.989711</td>\n",
       "      <td>0.069571</td>\n",
       "      <td>0.077139</td>\n",
       "      <td>0.090529</td>\n",
       "      <td>0.036031</td>\n",
       "      <td>0.013670</td>\n",
       "    </tr>\n",
       "    <tr>\n",
       "      <th>3</th>\n",
       "      <td>0.989406</td>\n",
       "      <td>0.071684</td>\n",
       "      <td>0.079043</td>\n",
       "      <td>0.091309</td>\n",
       "      <td>0.034697</td>\n",
       "      <td>0.012144</td>\n",
       "    </tr>\n",
       "    <tr>\n",
       "      <th>4</th>\n",
       "      <td>0.992301</td>\n",
       "      <td>0.061153</td>\n",
       "      <td>0.066923</td>\n",
       "      <td>0.078461</td>\n",
       "      <td>0.028717</td>\n",
       "      <td>0.011848</td>\n",
       "    </tr>\n",
       "    <tr>\n",
       "      <th>...</th>\n",
       "      <td>...</td>\n",
       "      <td>...</td>\n",
       "      <td>...</td>\n",
       "      <td>...</td>\n",
       "      <td>...</td>\n",
       "      <td>...</td>\n",
       "    </tr>\n",
       "    <tr>\n",
       "      <th>154</th>\n",
       "      <td>0.491631</td>\n",
       "      <td>0.463423</td>\n",
       "      <td>0.491631</td>\n",
       "      <td>0.539988</td>\n",
       "      <td>0.084238</td>\n",
       "      <td>0.056159</td>\n",
       "    </tr>\n",
       "    <tr>\n",
       "      <th>155</th>\n",
       "      <td>0.521604</td>\n",
       "      <td>0.455430</td>\n",
       "      <td>0.482678</td>\n",
       "      <td>0.525497</td>\n",
       "      <td>0.094589</td>\n",
       "      <td>0.049397</td>\n",
       "    </tr>\n",
       "    <tr>\n",
       "      <th>156</th>\n",
       "      <td>0.474363</td>\n",
       "      <td>0.470475</td>\n",
       "      <td>0.505469</td>\n",
       "      <td>0.536574</td>\n",
       "      <td>0.088535</td>\n",
       "      <td>0.048828</td>\n",
       "    </tr>\n",
       "    <tr>\n",
       "      <th>157</th>\n",
       "      <td>0.619759</td>\n",
       "      <td>0.415270</td>\n",
       "      <td>0.449875</td>\n",
       "      <td>0.478189</td>\n",
       "      <td>0.090378</td>\n",
       "      <td>0.065034</td>\n",
       "    </tr>\n",
       "    <tr>\n",
       "      <th>158</th>\n",
       "      <td>0.603857</td>\n",
       "      <td>0.418755</td>\n",
       "      <td>0.455169</td>\n",
       "      <td>0.491582</td>\n",
       "      <td>0.088976</td>\n",
       "      <td>0.057024</td>\n",
       "    </tr>\n",
       "  </tbody>\n",
       "</table>\n",
       "<p>159 rows × 6 columns</p>\n",
       "</div>"
      ],
      "text/plain": [
       "            0         1         2         3         4         5\n",
       "0    0.981470  0.094091  0.103014  0.121670  0.046721  0.016304\n",
       "1    0.985942  0.081595  0.089415  0.106074  0.042429  0.014638\n",
       "2    0.989711  0.069571  0.077139  0.090529  0.036031  0.013670\n",
       "3    0.989406  0.071684  0.079043  0.091309  0.034697  0.012144\n",
       "4    0.992301  0.061153  0.066923  0.078461  0.028717  0.011848\n",
       "..        ...       ...       ...       ...       ...       ...\n",
       "154  0.491631  0.463423  0.491631  0.539988  0.084238  0.056159\n",
       "155  0.521604  0.455430  0.482678  0.525497  0.094589  0.049397\n",
       "156  0.474363  0.470475  0.505469  0.536574  0.088535  0.048828\n",
       "157  0.619759  0.415270  0.449875  0.478189  0.090378  0.065034\n",
       "158  0.603857  0.418755  0.455169  0.491582  0.088976  0.057024\n",
       "\n",
       "[159 rows x 6 columns]"
      ]
     },
     "execution_count": 5,
     "metadata": {},
     "output_type": "execute_result"
    }
   ],
   "source": [
    "Y = data['Species']\n",
    "data = data.drop(['Species'], axis=1)\n",
    "\n",
    "\n",
    "names= data.columns\n",
    "\n",
    "from sklearn.preprocessing import Normalizer\n",
    "\n",
    "norms= Normalizer().fit(data)\n",
    "data_norms=norms.transform(data)\n",
    "data_norms= np.asarray(data_norms)\n",
    "\n",
    "nomred_data = pd.DataFrame(data_norms)\n",
    "\n",
    "nomred_data"
   ]
  },
  {
   "cell_type": "code",
   "execution_count": 6,
   "id": "4fb76a55",
   "metadata": {
    "execution": {
     "iopub.execute_input": "2021-07-22T17:37:08.413524Z",
     "iopub.status.busy": "2021-07-22T17:37:08.412570Z",
     "iopub.status.idle": "2021-07-22T17:37:08.415441Z",
     "shell.execute_reply": "2021-07-22T17:37:08.414789Z",
     "shell.execute_reply.started": "2021-07-21T20:08:45.633881Z"
    },
    "papermill": {
     "duration": 0.055563,
     "end_time": "2021-07-22T17:37:08.415582",
     "exception": false,
     "start_time": "2021-07-22T17:37:08.360019",
     "status": "completed"
    },
    "tags": []
   },
   "outputs": [
    {
     "name": "stdout",
     "output_type": "stream",
     "text": [
      "       Weight   Length1   Length2   Length3    Height     Width\n",
      "0    0.981470  0.094091  0.103014  0.121670  0.046721  0.016304\n",
      "1    0.985942  0.081595  0.089415  0.106074  0.042429  0.014638\n",
      "2    0.989711  0.069571  0.077139  0.090529  0.036031  0.013670\n",
      "3    0.989406  0.071684  0.079043  0.091309  0.034697  0.012144\n",
      "4    0.992301  0.061153  0.066923  0.078461  0.028717  0.011848\n",
      "..        ...       ...       ...       ...       ...       ...\n",
      "154  0.491631  0.463423  0.491631  0.539988  0.084238  0.056159\n",
      "155  0.521604  0.455430  0.482678  0.525497  0.094589  0.049397\n",
      "156  0.474363  0.470475  0.505469  0.536574  0.088535  0.048828\n",
      "157  0.619759  0.415270  0.449875  0.478189  0.090378  0.065034\n",
      "158  0.603857  0.418755  0.455169  0.491582  0.088976  0.057024\n",
      "\n",
      "[159 rows x 6 columns]\n"
     ]
    }
   ],
   "source": [
    "nomred_data.columns =names\n",
    "\n",
    "print(nomred_data)"
   ]
  },
  {
   "cell_type": "code",
   "execution_count": 7,
   "id": "51c7a4c4",
   "metadata": {
    "execution": {
     "iopub.execute_input": "2021-07-22T17:37:08.729663Z",
     "iopub.status.busy": "2021-07-22T17:37:08.728651Z",
     "iopub.status.idle": "2021-07-22T17:37:08.732380Z",
     "shell.execute_reply": "2021-07-22T17:37:08.731844Z",
     "shell.execute_reply.started": "2021-07-21T20:08:45.681463Z"
    },
    "papermill": {
     "duration": 0.059276,
     "end_time": "2021-07-22T17:37:08.732526",
     "exception": false,
     "start_time": "2021-07-22T17:37:08.673250",
     "status": "completed"
    },
    "tags": []
   },
   "outputs": [
    {
     "name": "stdout",
     "output_type": "stream",
     "text": [
      "[0 1 2 3 4 5 6]\n"
     ]
    }
   ],
   "source": [
    "Y= Y.replace({\"Bream\": 0, \"Roach\": 1,\n",
    "              \"Whitefish\":2, \"Parkki\":3, \n",
    "              \"Perch\":4, \"Pike\":5, \"Smelt\":6})\n",
    "\n",
    "print(Y.unique())"
   ]
  },
  {
   "cell_type": "code",
   "execution_count": 8,
   "id": "2af6ce00",
   "metadata": {
    "execution": {
     "iopub.execute_input": "2021-07-22T17:37:09.044000Z",
     "iopub.status.busy": "2021-07-22T17:37:09.043242Z",
     "iopub.status.idle": "2021-07-22T17:37:09.047389Z",
     "shell.execute_reply": "2021-07-22T17:37:09.046726Z",
     "shell.execute_reply.started": "2021-07-21T20:08:45.715514Z"
    },
    "papermill": {
     "duration": 0.061819,
     "end_time": "2021-07-22T17:37:09.047531",
     "exception": false,
     "start_time": "2021-07-22T17:37:08.985712",
     "status": "completed"
    },
    "tags": []
   },
   "outputs": [],
   "source": [
    "data_prepared = pd.concat([nomred_data,Y], axis=1)"
   ]
  },
  {
   "cell_type": "code",
   "execution_count": 9,
   "id": "5b119153",
   "metadata": {
    "execution": {
     "iopub.execute_input": "2021-07-22T17:37:09.159011Z",
     "iopub.status.busy": "2021-07-22T17:37:09.158326Z",
     "iopub.status.idle": "2021-07-22T17:37:09.162372Z",
     "shell.execute_reply": "2021-07-22T17:37:09.161796Z",
     "shell.execute_reply.started": "2021-07-21T20:08:45.737775Z"
    },
    "papermill": {
     "duration": 0.064043,
     "end_time": "2021-07-22T17:37:09.162549",
     "exception": false,
     "start_time": "2021-07-22T17:37:09.098506",
     "status": "completed"
    },
    "tags": []
   },
   "outputs": [
    {
     "name": "stdout",
     "output_type": "stream",
     "text": [
      "       Weight   Length1   Length2   Length3    Height     Width  Species\n",
      "0    0.981470  0.094091  0.103014  0.121670  0.046721  0.016304        0\n",
      "1    0.985942  0.081595  0.089415  0.106074  0.042429  0.014638        0\n",
      "2    0.989711  0.069571  0.077139  0.090529  0.036031  0.013670        0\n",
      "3    0.989406  0.071684  0.079043  0.091309  0.034697  0.012144        0\n",
      "4    0.992301  0.061153  0.066923  0.078461  0.028717  0.011848        0\n",
      "..        ...       ...       ...       ...       ...       ...      ...\n",
      "154  0.491631  0.463423  0.491631  0.539988  0.084238  0.056159        6\n",
      "155  0.521604  0.455430  0.482678  0.525497  0.094589  0.049397        6\n",
      "156  0.474363  0.470475  0.505469  0.536574  0.088535  0.048828        6\n",
      "157  0.619759  0.415270  0.449875  0.478189  0.090378  0.065034        6\n",
      "158  0.603857  0.418755  0.455169  0.491582  0.088976  0.057024        6\n",
      "\n",
      "[159 rows x 7 columns]\n"
     ]
    }
   ],
   "source": [
    "print(data_prepared)"
   ]
  },
  {
   "cell_type": "markdown",
   "id": "c5ee1a20",
   "metadata": {
    "papermill": {
     "duration": 0.068724,
     "end_time": "2021-07-22T17:37:25.031305",
     "exception": false,
     "start_time": "2021-07-22T17:37:24.962581",
     "status": "completed"
    },
    "tags": []
   },
   "source": [
    "Droping outliers"
   ]
  },
  {
   "cell_type": "code",
   "execution_count": 10,
   "id": "4654bb73",
   "metadata": {
    "execution": {
     "iopub.execute_input": "2021-07-22T17:37:25.172034Z",
     "iopub.status.busy": "2021-07-22T17:37:25.171265Z",
     "iopub.status.idle": "2021-07-22T17:37:25.176288Z",
     "shell.execute_reply": "2021-07-22T17:37:25.176743Z",
     "shell.execute_reply.started": "2021-07-21T20:09:00.927907Z"
    },
    "papermill": {
     "duration": 0.076666,
     "end_time": "2021-07-22T17:37:25.176947",
     "exception": false,
     "start_time": "2021-07-22T17:37:25.100281",
     "status": "completed"
    },
    "tags": []
   },
   "outputs": [
    {
     "name": "stdout",
     "output_type": "stream",
     "text": [
      "0.09107570235510182\n"
     ]
    }
   ],
   "source": [
    "print(data_prepared['Width'].max())"
   ]
  },
  {
   "cell_type": "markdown",
   "id": "10574968",
   "metadata": {
    "papermill": {
     "duration": 0.06847,
     "end_time": "2021-07-22T17:37:25.314900",
     "exception": false,
     "start_time": "2021-07-22T17:37:25.246430",
     "status": "completed"
    },
    "tags": []
   },
   "source": [
    "Get the index of the outlier and drop"
   ]
  },
  {
   "cell_type": "code",
   "execution_count": 11,
   "id": "1c2a57b3",
   "metadata": {
    "execution": {
     "iopub.execute_input": "2021-07-22T17:37:25.467774Z",
     "iopub.status.busy": "2021-07-22T17:37:25.466253Z",
     "iopub.status.idle": "2021-07-22T17:37:25.471596Z",
     "shell.execute_reply": "2021-07-22T17:37:25.472069Z",
     "shell.execute_reply.started": "2021-07-21T20:09:00.935712Z"
    },
    "papermill": {
     "duration": 0.087107,
     "end_time": "2021-07-22T17:37:25.472244",
     "exception": false,
     "start_time": "2021-07-22T17:37:25.385137",
     "status": "completed"
    },
    "tags": []
   },
   "outputs": [
    {
     "name": "stdout",
     "output_type": "stream",
     "text": [
      "72\n",
      "40\n",
      "35\n"
     ]
    }
   ],
   "source": [
    "data_4_cat= data_prepared.loc[data_prepared.Species==4]\n",
    "print(data_4_cat['Width'].idxmax())\n",
    "indx_to_drop = data_4_cat['Width'].idxmax()\n",
    "data_prepared =data_prepared.drop([indx_to_drop], axis=0)\n",
    "\n",
    "data_1_cat= data_prepared.loc[data_prepared.Species==1]\n",
    "print(data_1_cat['Width'].idxmax())\n",
    "indx_to_drop = data_1_cat['Width'].idxmax()\n",
    "data_prepared =data_prepared.drop([indx_to_drop], axis=0)\n",
    "\n",
    "data_1_cat= data_prepared.loc[data_prepared.Species==1]\n",
    "print(data_1_cat['Width'].idxmax())\n",
    "indx_to_drop = data_1_cat['Width'].idxmax()\n",
    "data_prepared =data_prepared.drop([indx_to_drop], axis=0)\n"
   ]
  },
  {
   "cell_type": "markdown",
   "id": "5dbdf1fd",
   "metadata": {
    "papermill": {
     "duration": 0.097493,
     "end_time": "2021-07-22T17:37:26.466207",
     "exception": false,
     "start_time": "2021-07-22T17:37:26.368714",
     "status": "completed"
    },
    "tags": []
   },
   "source": [
    "Preparing the model and the data for training"
   ]
  },
  {
   "cell_type": "code",
   "execution_count": 12,
   "id": "e6806711",
   "metadata": {
    "execution": {
     "iopub.execute_input": "2021-07-22T17:37:26.629027Z",
     "iopub.status.busy": "2021-07-22T17:37:26.628194Z",
     "iopub.status.idle": "2021-07-22T17:37:26.780161Z",
     "shell.execute_reply": "2021-07-22T17:37:26.779068Z",
     "shell.execute_reply.started": "2021-07-21T20:09:01.332288Z"
    },
    "papermill": {
     "duration": 0.231176,
     "end_time": "2021-07-22T17:37:26.780447",
     "exception": false,
     "start_time": "2021-07-22T17:37:26.549271",
     "status": "completed"
    },
    "tags": []
   },
   "outputs": [],
   "source": [
    "from sklearn.model_selection import GridSearchCV\n",
    "from sklearn.svm import SVC\n",
    "from sklearn.model_selection import train_test_split"
   ]
  },
  {
   "cell_type": "code",
   "execution_count": 13,
   "id": "09879244",
   "metadata": {
    "execution": {
     "iopub.execute_input": "2021-07-22T17:37:26.935396Z",
     "iopub.status.busy": "2021-07-22T17:37:26.934120Z",
     "iopub.status.idle": "2021-07-22T17:37:26.937323Z",
     "shell.execute_reply": "2021-07-22T17:37:26.937837Z",
     "shell.execute_reply.started": "2021-07-21T20:09:01.338509Z"
    },
    "papermill": {
     "duration": 0.082337,
     "end_time": "2021-07-22T17:37:26.938043",
     "exception": false,
     "start_time": "2021-07-22T17:37:26.855706",
     "status": "completed"
    },
    "tags": []
   },
   "outputs": [],
   "source": [
    "SVC = SVC()"
   ]
  },
  {
   "cell_type": "code",
   "execution_count": 14,
   "id": "71d515d0",
   "metadata": {
    "execution": {
     "iopub.execute_input": "2021-07-22T17:37:27.094726Z",
     "iopub.status.busy": "2021-07-22T17:37:27.093949Z",
     "iopub.status.idle": "2021-07-22T17:37:27.097136Z",
     "shell.execute_reply": "2021-07-22T17:37:27.097645Z",
     "shell.execute_reply.started": "2021-07-21T20:09:01.351949Z"
    },
    "papermill": {
     "duration": 0.086231,
     "end_time": "2021-07-22T17:37:27.097826",
     "exception": false,
     "start_time": "2021-07-22T17:37:27.011595",
     "status": "completed"
    },
    "tags": []
   },
   "outputs": [],
   "source": [
    "parameters = {'C': [10,100,1000], 'gamma': [4,5,6,7],\n",
    "              'kernel': ['rbf', 'poly', 'sigmoid']}\n",
    "grid_search = GridSearchCV(SVC, parameters, n_jobs=20, cv=6, refit=True,verbose=10)\n"
   ]
  },
  {
   "cell_type": "code",
   "execution_count": 15,
   "id": "0b339ef4",
   "metadata": {
    "execution": {
     "iopub.execute_input": "2021-07-22T17:37:27.258203Z",
     "iopub.status.busy": "2021-07-22T17:37:27.257388Z",
     "iopub.status.idle": "2021-07-22T17:37:27.261101Z",
     "shell.execute_reply": "2021-07-22T17:37:27.260229Z",
     "shell.execute_reply.started": "2021-07-21T20:09:01.367886Z"
    },
    "papermill": {
     "duration": 0.086005,
     "end_time": "2021-07-22T17:37:27.261273",
     "exception": false,
     "start_time": "2021-07-22T17:37:27.175268",
     "status": "completed"
    },
    "tags": []
   },
   "outputs": [],
   "source": [
    "Y = data_prepared['Species']\n",
    "X= data_prepared.drop(['Species'], axis=1)"
   ]
  },
  {
   "cell_type": "code",
   "execution_count": 16,
   "id": "50fec1ec",
   "metadata": {
    "execution": {
     "iopub.execute_input": "2021-07-22T17:37:27.422277Z",
     "iopub.status.busy": "2021-07-22T17:37:27.421071Z",
     "iopub.status.idle": "2021-07-22T17:37:27.424240Z",
     "shell.execute_reply": "2021-07-22T17:37:27.423518Z",
     "shell.execute_reply.started": "2021-07-21T20:09:01.381854Z"
    },
    "papermill": {
     "duration": 0.08759,
     "end_time": "2021-07-22T17:37:27.424579",
     "exception": false,
     "start_time": "2021-07-22T17:37:27.336989",
     "status": "completed"
    },
    "tags": []
   },
   "outputs": [],
   "source": [
    "X_train, X_test, Y_train, Y_test = train_test_split(X, Y, random_state=40, test_size=0.3)"
   ]
  },
  {
   "cell_type": "code",
   "execution_count": 17,
   "id": "5dbadfc4",
   "metadata": {
    "execution": {
     "iopub.execute_input": "2021-07-22T17:37:27.578602Z",
     "iopub.status.busy": "2021-07-22T17:37:27.577825Z",
     "iopub.status.idle": "2021-07-22T17:37:40.697442Z",
     "shell.execute_reply": "2021-07-22T17:37:40.698193Z",
     "shell.execute_reply.started": "2021-07-21T20:09:01.398994Z"
    },
    "papermill": {
     "duration": 13.201264,
     "end_time": "2021-07-22T17:37:40.698467",
     "exception": false,
     "start_time": "2021-07-22T17:37:27.497203",
     "status": "completed"
    },
    "tags": []
   },
   "outputs": [
    {
     "name": "stdout",
     "output_type": "stream",
     "text": [
      "Fitting 6 folds for each of 36 candidates, totalling 216 fits\n"
     ]
    },
    {
     "name": "stderr",
     "output_type": "stream",
     "text": [
      "/home/nidhish/anaconda3/lib/python3.10/site-packages/sklearn/model_selection/_split.py:700: UserWarning: The least populated class in y has only 5 members, which is less than n_splits=6.\n",
      "  warnings.warn(\n"
     ]
    },
    {
     "data": {
      "text/html": [
       "<style>#sk-container-id-1 {color: black;background-color: white;}#sk-container-id-1 pre{padding: 0;}#sk-container-id-1 div.sk-toggleable {background-color: white;}#sk-container-id-1 label.sk-toggleable__label {cursor: pointer;display: block;width: 100%;margin-bottom: 0;padding: 0.3em;box-sizing: border-box;text-align: center;}#sk-container-id-1 label.sk-toggleable__label-arrow:before {content: \"▸\";float: left;margin-right: 0.25em;color: #696969;}#sk-container-id-1 label.sk-toggleable__label-arrow:hover:before {color: black;}#sk-container-id-1 div.sk-estimator:hover label.sk-toggleable__label-arrow:before {color: black;}#sk-container-id-1 div.sk-toggleable__content {max-height: 0;max-width: 0;overflow: hidden;text-align: left;background-color: #f0f8ff;}#sk-container-id-1 div.sk-toggleable__content pre {margin: 0.2em;color: black;border-radius: 0.25em;background-color: #f0f8ff;}#sk-container-id-1 input.sk-toggleable__control:checked~div.sk-toggleable__content {max-height: 200px;max-width: 100%;overflow: auto;}#sk-container-id-1 input.sk-toggleable__control:checked~label.sk-toggleable__label-arrow:before {content: \"▾\";}#sk-container-id-1 div.sk-estimator input.sk-toggleable__control:checked~label.sk-toggleable__label {background-color: #d4ebff;}#sk-container-id-1 div.sk-label input.sk-toggleable__control:checked~label.sk-toggleable__label {background-color: #d4ebff;}#sk-container-id-1 input.sk-hidden--visually {border: 0;clip: rect(1px 1px 1px 1px);clip: rect(1px, 1px, 1px, 1px);height: 1px;margin: -1px;overflow: hidden;padding: 0;position: absolute;width: 1px;}#sk-container-id-1 div.sk-estimator {font-family: monospace;background-color: #f0f8ff;border: 1px dotted black;border-radius: 0.25em;box-sizing: border-box;margin-bottom: 0.5em;}#sk-container-id-1 div.sk-estimator:hover {background-color: #d4ebff;}#sk-container-id-1 div.sk-parallel-item::after {content: \"\";width: 100%;border-bottom: 1px solid gray;flex-grow: 1;}#sk-container-id-1 div.sk-label:hover label.sk-toggleable__label {background-color: #d4ebff;}#sk-container-id-1 div.sk-serial::before {content: \"\";position: absolute;border-left: 1px solid gray;box-sizing: border-box;top: 0;bottom: 0;left: 50%;z-index: 0;}#sk-container-id-1 div.sk-serial {display: flex;flex-direction: column;align-items: center;background-color: white;padding-right: 0.2em;padding-left: 0.2em;position: relative;}#sk-container-id-1 div.sk-item {position: relative;z-index: 1;}#sk-container-id-1 div.sk-parallel {display: flex;align-items: stretch;justify-content: center;background-color: white;position: relative;}#sk-container-id-1 div.sk-item::before, #sk-container-id-1 div.sk-parallel-item::before {content: \"\";position: absolute;border-left: 1px solid gray;box-sizing: border-box;top: 0;bottom: 0;left: 50%;z-index: -1;}#sk-container-id-1 div.sk-parallel-item {display: flex;flex-direction: column;z-index: 1;position: relative;background-color: white;}#sk-container-id-1 div.sk-parallel-item:first-child::after {align-self: flex-end;width: 50%;}#sk-container-id-1 div.sk-parallel-item:last-child::after {align-self: flex-start;width: 50%;}#sk-container-id-1 div.sk-parallel-item:only-child::after {width: 0;}#sk-container-id-1 div.sk-dashed-wrapped {border: 1px dashed gray;margin: 0 0.4em 0.5em 0.4em;box-sizing: border-box;padding-bottom: 0.4em;background-color: white;}#sk-container-id-1 div.sk-label label {font-family: monospace;font-weight: bold;display: inline-block;line-height: 1.2em;}#sk-container-id-1 div.sk-label-container {text-align: center;}#sk-container-id-1 div.sk-container {/* jupyter's `normalize.less` sets `[hidden] { display: none; }` but bootstrap.min.css set `[hidden] { display: none !important; }` so we also need the `!important` here to be able to override the default hidden behavior on the sphinx rendered scikit-learn.org. See: https://github.com/scikit-learn/scikit-learn/issues/21755 */display: inline-block !important;position: relative;}#sk-container-id-1 div.sk-text-repr-fallback {display: none;}</style><div id=\"sk-container-id-1\" class=\"sk-top-container\"><div class=\"sk-text-repr-fallback\"><pre>GridSearchCV(cv=6, estimator=SVC(), n_jobs=20,\n",
       "             param_grid={&#x27;C&#x27;: [10, 100, 1000], &#x27;gamma&#x27;: [4, 5, 6, 7],\n",
       "                         &#x27;kernel&#x27;: [&#x27;rbf&#x27;, &#x27;poly&#x27;, &#x27;sigmoid&#x27;]},\n",
       "             verbose=10)</pre><b>In a Jupyter environment, please rerun this cell to show the HTML representation or trust the notebook. <br />On GitHub, the HTML representation is unable to render, please try loading this page with nbviewer.org.</b></div><div class=\"sk-container\" hidden><div class=\"sk-item sk-dashed-wrapped\"><div class=\"sk-label-container\"><div class=\"sk-label sk-toggleable\"><input class=\"sk-toggleable__control sk-hidden--visually\" id=\"sk-estimator-id-1\" type=\"checkbox\" ><label for=\"sk-estimator-id-1\" class=\"sk-toggleable__label sk-toggleable__label-arrow\">GridSearchCV</label><div class=\"sk-toggleable__content\"><pre>GridSearchCV(cv=6, estimator=SVC(), n_jobs=20,\n",
       "             param_grid={&#x27;C&#x27;: [10, 100, 1000], &#x27;gamma&#x27;: [4, 5, 6, 7],\n",
       "                         &#x27;kernel&#x27;: [&#x27;rbf&#x27;, &#x27;poly&#x27;, &#x27;sigmoid&#x27;]},\n",
       "             verbose=10)</pre></div></div></div><div class=\"sk-parallel\"><div class=\"sk-parallel-item\"><div class=\"sk-item\"><div class=\"sk-label-container\"><div class=\"sk-label sk-toggleable\"><input class=\"sk-toggleable__control sk-hidden--visually\" id=\"sk-estimator-id-2\" type=\"checkbox\" ><label for=\"sk-estimator-id-2\" class=\"sk-toggleable__label sk-toggleable__label-arrow\">estimator: SVC</label><div class=\"sk-toggleable__content\"><pre>SVC()</pre></div></div></div><div class=\"sk-serial\"><div class=\"sk-item\"><div class=\"sk-estimator sk-toggleable\"><input class=\"sk-toggleable__control sk-hidden--visually\" id=\"sk-estimator-id-3\" type=\"checkbox\" ><label for=\"sk-estimator-id-3\" class=\"sk-toggleable__label sk-toggleable__label-arrow\">SVC</label><div class=\"sk-toggleable__content\"><pre>SVC()</pre></div></div></div></div></div></div></div></div></div></div>"
      ],
      "text/plain": [
       "GridSearchCV(cv=6, estimator=SVC(), n_jobs=20,\n",
       "             param_grid={'C': [10, 100, 1000], 'gamma': [4, 5, 6, 7],\n",
       "                         'kernel': ['rbf', 'poly', 'sigmoid']},\n",
       "             verbose=10)"
      ]
     },
     "execution_count": 17,
     "metadata": {},
     "output_type": "execute_result"
    }
   ],
   "source": [
    "grid_search.fit(X_train, Y_train)"
   ]
  },
  {
   "cell_type": "code",
   "execution_count": 18,
   "id": "0c47a76c",
   "metadata": {
    "execution": {
     "iopub.execute_input": "2021-07-22T17:37:40.862530Z",
     "iopub.status.busy": "2021-07-22T17:37:40.861861Z",
     "iopub.status.idle": "2021-07-22T17:37:40.864751Z",
     "shell.execute_reply": "2021-07-22T17:37:40.865202Z",
     "shell.execute_reply.started": "2021-07-21T20:09:14.221723Z"
    },
    "papermill": {
     "duration": 0.086252,
     "end_time": "2021-07-22T17:37:40.865387",
     "exception": false,
     "start_time": "2021-07-22T17:37:40.779135",
     "status": "completed"
    },
    "tags": []
   },
   "outputs": [
    {
     "name": "stdout",
     "output_type": "stream",
     "text": [
      "Best parameters for SVC Clasiifier SVC(C=1000, gamma=5, kernel='poly')\n"
     ]
    }
   ],
   "source": [
    "print(\"Best parameters for SVC Clasiifier\",grid_search.best_estimator_)"
   ]
  },
  {
   "cell_type": "markdown",
   "id": "eaf4a391",
   "metadata": {
    "papermill": {
     "duration": 0.077233,
     "end_time": "2021-07-22T17:37:41.020113",
     "exception": false,
     "start_time": "2021-07-22T17:37:40.942880",
     "status": "completed"
    },
    "tags": []
   },
   "source": [
    "Evaluate the model"
   ]
  },
  {
   "cell_type": "code",
   "execution_count": 19,
   "id": "f65909c7",
   "metadata": {
    "execution": {
     "iopub.execute_input": "2021-07-22T17:37:41.175139Z",
     "iopub.status.busy": "2021-07-22T17:37:41.174411Z",
     "iopub.status.idle": "2021-07-22T17:37:41.177772Z",
     "shell.execute_reply": "2021-07-22T17:37:41.178362Z",
     "shell.execute_reply.started": "2021-07-21T20:09:14.233115Z"
    },
    "papermill": {
     "duration": 0.082524,
     "end_time": "2021-07-22T17:37:41.178544",
     "exception": false,
     "start_time": "2021-07-22T17:37:41.096020",
     "status": "completed"
    },
    "tags": []
   },
   "outputs": [],
   "source": [
    "from sklearn.metrics import accuracy_score"
   ]
  },
  {
   "cell_type": "code",
   "execution_count": 20,
   "id": "bf4aeccc",
   "metadata": {
    "execution": {
     "iopub.execute_input": "2021-07-22T17:37:41.334679Z",
     "iopub.status.busy": "2021-07-22T17:37:41.334022Z",
     "iopub.status.idle": "2021-07-22T17:37:41.340006Z",
     "shell.execute_reply": "2021-07-22T17:37:41.340541Z",
     "shell.execute_reply.started": "2021-07-21T20:09:14.248431Z"
    },
    "papermill": {
     "duration": 0.084933,
     "end_time": "2021-07-22T17:37:41.340716",
     "exception": false,
     "start_time": "2021-07-22T17:37:41.255783",
     "status": "completed"
    },
    "tags": []
   },
   "outputs": [],
   "source": [
    "preds = grid_search.predict(X_test)"
   ]
  },
  {
   "cell_type": "code",
   "execution_count": 21,
   "id": "bb80c2ac",
   "metadata": {
    "execution": {
     "iopub.execute_input": "2021-07-22T17:37:41.500490Z",
     "iopub.status.busy": "2021-07-22T17:37:41.499829Z",
     "iopub.status.idle": "2021-07-22T17:37:41.506978Z",
     "shell.execute_reply": "2021-07-22T17:37:41.505985Z",
     "shell.execute_reply.started": "2021-07-21T20:09:14.266435Z"
    },
    "papermill": {
     "duration": 0.089605,
     "end_time": "2021-07-22T17:37:41.507236",
     "exception": false,
     "start_time": "2021-07-22T17:37:41.417631",
     "status": "completed"
    },
    "tags": []
   },
   "outputs": [
    {
     "name": "stdout",
     "output_type": "stream",
     "text": [
      "_Accuracy = % 97.87234042553192\n"
     ]
    }
   ],
   "source": [
    "score= accuracy_score(Y_test, preds)\n",
    "print(\"_Accuracy = %\",score*100)"
   ]
  },
  {
   "cell_type": "markdown",
   "id": "e96ad292",
   "metadata": {},
   "source": [
    "Exporting Model pkl file "
   ]
  },
  {
   "cell_type": "code",
   "execution_count": 24,
   "id": "d278894f",
   "metadata": {},
   "outputs": [],
   "source": [
    "import pickle\n",
    "\n",
    "# Assuming you have a trained model named 'grid_search'\n",
    "# Save the model to a pickle file\n",
    "with open('FISH_CLASSIFICATION_MODEL_SVC.pkl', 'wb') as f:\n",
    "    pickle.dump(grid_search.best_estimator_, f)"
   ]
  },
  {
   "cell_type": "markdown",
   "id": "d9e62f3e",
   "metadata": {},
   "source": [
    "Testing if the exported model file works fine"
   ]
  },
  {
   "cell_type": "code",
   "execution_count": 25,
   "id": "1d461e27",
   "metadata": {},
   "outputs": [
    {
     "name": "stdout",
     "output_type": "stream",
     "text": [
      "[4]\n"
     ]
    },
    {
     "name": "stderr",
     "output_type": "stream",
     "text": [
      "/home/nidhish/anaconda3/lib/python3.10/site-packages/sklearn/base.py:420: UserWarning: X does not have valid feature names, but SVC was fitted with feature names\n",
      "  warnings.warn(\n"
     ]
    }
   ],
   "source": [
    "import pickle\n",
    "import numpy as np\n",
    "\n",
    "\n",
    "# Load the model from the pickle file\n",
    "with open('FISH_CLASSIFICATION_MODEL_SVC.pkl', 'rb') as f:\n",
    "    loaded_model = pickle.load(f)\n",
    "\n",
    "input_data = np.array(['0.995553','0.049922','0.053385','0.056703','0.015253','0.009186'])\n",
    "input_data = input_data.reshape(1, -1)\n",
    "\n",
    "\n",
    "predictions = loaded_model.predict(input_data)\n",
    "\n",
    "# Print or use the predictions as needed\n",
    "print(predictions)\n"
   ]
  }
 ],
 "metadata": {
  "kernelspec": {
   "display_name": "Python 3 (ipykernel)",
   "language": "python",
   "name": "python3"
  },
  "language_info": {
   "codemirror_mode": {
    "name": "ipython",
    "version": 3
   },
   "file_extension": ".py",
   "mimetype": "text/x-python",
   "name": "python",
   "nbconvert_exporter": "python",
   "pygments_lexer": "ipython3",
   "version": "3.10.9"
  },
  "papermill": {
   "default_parameters": {},
   "duration": 48.062902,
   "end_time": "2021-07-22T17:37:44.217798",
   "environment_variables": {},
   "exception": null,
   "input_path": "__notebook__.ipynb",
   "output_path": "__notebook__.ipynb",
   "parameters": {},
   "start_time": "2021-07-22T17:36:56.154896",
   "version": "2.3.3"
  }
 },
 "nbformat": 4,
 "nbformat_minor": 5
}
